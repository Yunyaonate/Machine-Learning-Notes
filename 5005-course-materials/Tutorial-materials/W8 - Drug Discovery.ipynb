{
 "cells": [
  {
   "cell_type": "markdown",
   "metadata": {
    "id": "M-DT90Fa8Kh-"
   },
   "source": [
    "We will need a GPU for speed-up.\n",
    "\n",
    "You can change your runtime to GPU via \"Runtime -> Change runtime type\".\n",
    "\n",
    "Then, select \"GPU\" as your \"Hardware accelerator\" and save."
   ]
  },
  {
   "cell_type": "code",
   "execution_count": 1,
   "metadata": {
    "colab": {
     "base_uri": "https://localhost:8080/"
    },
    "id": "VsMPbGvT8JeB",
    "outputId": "93706da3-fbbc-46ae-8638-f4b4cbeff753"
   },
   "outputs": [],
   "source": [
    "# check availability of GPU\n",
    "!nvidia-smi"
   ]
  },
  {
   "cell_type": "markdown",
   "metadata": {
    "id": "CESD4PdRLCft"
   },
   "source": [
    "# 0 . Preliminary"
   ]
  },
  {
   "cell_type": "markdown",
   "metadata": {
    "id": "2GrY_OmvYVHc"
   },
   "source": [
    "## 0.1. Install packages\n",
    "\n",
    "We are going to use **PyTorch** (`torch`) and **PyTorch Geometric** (`torch-geometric`) in this tutorial.\n",
    "\n",
    "PyTorch has already been installed by Google Colab. We need to install PyTorch Geometric along with its required packages with `pip`."
   ]
  },
  {
   "cell_type": "code",
   "execution_count": 2,
   "metadata": {
    "colab": {
     "base_uri": "https://localhost:8080/"
    },
    "id": "K4YeLyieWeuG",
    "outputId": "0b57a1f3-242f-4cc4-cd2d-1989bb256ba0"
   },
   "outputs": [],
   "source": [
    "import torch\n",
    "import os\n",
    "\n",
    "os.environ['TORCH_VERSION'] = torch.__version__  # get the version of `torch`\n",
    "print(os.environ['TORCH_VERSION'])"
   ]
  },
  {
   "cell_type": "code",
   "execution_count": 3,
   "metadata": {
    "id": "O_OclCTza4Ns"
   },
   "outputs": [],
   "source": [
    "%%bash\n",
    "\n",
    "# install the corresponding version of `torch-geometric` with `pip`\n",
    "\n",
    "echo \"torch version: ${TORCH_VERSION}\"\n",
    "\n",
    "pip install class_resolver\n",
    "pip install torch-scatter -f https://pytorch-geometric.com/whl/torch-${TORCH_VERSION}.html\n",
    "pip install torch-sparse -f https://pytorch-geometric.com/whl/torch-${TORCH_VERSION}.html\n",
    "pip install torch-cluster -f https://pytorch-geometric.com/whl/torch-${TORCH_VERSION}.html\n",
    "pip install torch-spline-conv -f https://pytorch-geometric.com/whl/torch-${TORCH_VERSION}.html\n",
    "pip install torch-geometric"
   ]
  },
  {
   "cell_type": "markdown",
   "metadata": {
    "id": "kNl14uQjoKQw"
   },
   "source": [
    "## 0.2. Import packages"
   ]
  },
  {
   "cell_type": "code",
   "execution_count": 4,
   "metadata": {
    "colab": {
     "base_uri": "https://localhost:8080/"
    },
    "id": "tACkX4CSLe9l",
    "outputId": "4b940575-2d95-41c6-c838-88e6e1cf9a5a"
   },
   "outputs": [],
   "source": [
    "import time\n",
    "\n",
    "import torch\n",
    "import torch.nn.functional as F\n",
    "\n",
    "from matplotlib import pyplot as plt\n",
    "from torch import nn\n",
    "from torch_geometric import transforms\n",
    "from torch_geometric.datasets import ZINC, QM7b, QM9\n",
    "from torch_geometric.loader import DataLoader\n",
    "from torch_geometric.nn import GCNConv, GINConv, MLP\n",
    "from torch_geometric.nn import VGAE, InnerProductDecoder\n",
    "from torch_geometric.nn import Set2Set\n",
    "from torch_geometric.nn import global_mean_pool\n",
    "from torch_geometric.utils import negative_sampling, remove_self_loops\n",
    "\n",
    "# Use GPU (cuda) if available. Use CPU otherwise.\n",
    "# You can change your runtime to GPU via \"Runtime -> Change runtime type\".\n",
    "# Then, select \"GPU\" as your \"Hardware accelerator\" and save.\n",
    "DEVICE = 'cuda' if torch.cuda.is_available() else 'cpu'\n",
    "print('using %s' % DEVICE)"
   ]
  },
  {
   "cell_type": "markdown",
   "metadata": {
    "id": "XAZSqJ7eLfOJ"
   },
   "source": [
    "# 1 . Graph Convolutional Networks\n",
    "\n",
    "We first perform an experiment with GCN (Kipf *et al.*, 2017) for a regression task."
   ]
  },
  {
   "cell_type": "markdown",
   "metadata": {},
   "source": [
    "## 1.1. Load dataset\n",
    "\n",
    "We first define a custom transform."
   ]
  },
  {
   "cell_type": "code",
   "execution_count": 5,
   "metadata": {
    "id": "GpATjJ43zB1N"
   },
   "outputs": [],
   "source": [
    "class TransformComplete(object):\n",
    "    \"\"\"build graph and remove loops\"\"\"\n",
    "\n",
    "    def __call__(self, data):\n",
    "        device = data.edge_index.device\n",
    "\n",
    "        row = torch.arange(data.num_nodes, dtype=torch.long, device=device)\n",
    "        col = torch.arange(data.num_nodes, dtype=torch.long, device=device)\n",
    "\n",
    "        row = row.view(-1, 1).repeat(1, data.num_nodes).view(-1)\n",
    "        col = col.repeat(data.num_nodes)\n",
    "        edge_index = torch.stack([row, col], dim=0)\n",
    "\n",
    "        edge_attr = None\n",
    "        if data.edge_attr is not None:\n",
    "            idx = data.edge_index[0] * data.num_nodes + data.edge_index[1]\n",
    "            size = list(data.edge_attr.size())\n",
    "            size[0] = data.num_nodes * data.num_nodes\n",
    "            edge_attr = data.edge_attr.new_zeros(size)\n",
    "            edge_attr[idx] = data.edge_attr\n",
    "\n",
    "        edge_index, edge_attr = remove_self_loops(edge_index, edge_attr)\n",
    "        data.edge_attr = edge_attr\n",
    "        data.edge_index = edge_index\n",
    "\n",
    "        return data"
   ]
  },
  {
   "cell_type": "markdown",
   "metadata": {
    "id": "0WDCedSFPTui"
   },
   "source": [
    "We use the `QM9` dataset (Wu *et al.*, 2017), consisting of about 130,000 molecules and 19 regression targets.\n",
    "\n",
    "The 19 regression targets in the `QM9` dataset are:\n",
    "\n",
    "| Index | Property | Description | Unit |\n",
    "|:-----:|:---------|:------------|:-----|\n",
    "| 0     | $\\mu$                      | Dipole moment                                                         | $\\textrm{D}$                          |\n",
    "| 1     | $\\alpha$                   | Isotropic polarizability                                              | ${a_0}^3$                             |\n",
    "| 2     | $\\epsilon_{\\textrm{HOMO}}$ | Highest occupied molecular orbital energy                             | $\\textrm{eV}$                         |\n",
    "| 3     | $\\epsilon_{\\textrm{LUMO}}$ | Lowest unoccupied molecular orbital energy                            | $\\textrm{eV}$                         |\n",
    "| 4     | $\\Delta \\epsilon$          | Gap between $\\epsilon_{\\textrm{HOMO}}$ and $\\epsilon_{\\textrm{LUMO}}$ | $\\textrm{eV}$                         |\n",
    "| 5     | $\\langle R^2 \\rangle$      | Electronic spatial extent                                             | ${a_0}^2$                             |\n",
    "| 6     | $\\textrm{ZPVE}$            | Zero point vibrational energy                                         | $\\textrm{eV}$                         |\n",
    "| 7     | $U_0$                      | Internal energy at 0K                                                 | $\\textrm{eV}$                         |\n",
    "| 8     | $U$                        | Internal energy at 298.15K                                            | $\\textrm{eV}$                         |\n",
    "| 9     | $H$                        | Enthalpy at 298.15K                                                   | $\\textrm{eV}$                         |\n",
    "| 10    | $G$                        | Free energy at 298.15K                                                | $\\textrm{eV}$                         |\n",
    "| 11    | $c_{\\textrm{v}}$           | Heat capavity at 298.15K                                              | $\\frac{\\textrm{cal}}{\\textrm{mol K}}$ |\n",
    "| 12    | $U_0^{\\textrm{ATOM}}$      | Atomization energy at 0K                                              | $\\textrm{eV}$                         |\n",
    "| 13    | $U^{\\textrm{ATOM}}$        | Atomization energy at 298.15K                                         | $\\textrm{eV}$                         |\n",
    "| 14    | $H^{\\textrm{ATOM}}$        | Atomization enthalpy at 298.15K                                       | $\\textrm{eV}$                         |\n",
    "| 15    | $G^{\\textrm{ATOM}}$        | Atomization free energy at 298.15K                                    | $\\textrm{eV}$                         |\n",
    "| 16    | $A$                        | Rotational constant                                                   | $\\textrm{GHz}$                        |\n",
    "| 17    | $B$                        | Rotational constant                                                   | $\\textrm{GHz}$                        |\n",
    "| 18    | $C$                        | Rotational constant                                                   | $\\textrm{GHz}$                        |\n"
   ]
  },
  {
   "cell_type": "code",
   "execution_count": 6,
   "metadata": {
    "colab": {
     "base_uri": "https://localhost:8080/"
    },
    "id": "XRVXa8mx1pKT",
    "outputId": "b285c159-c7b4-43e8-89b2-1a4c207bceea"
   },
   "outputs": [
    {
     "name": "stdout",
     "output_type": "stream",
     "text": [
      "Number of samples: 130831\n",
      "104664 samples for train; 26167 samples for valid\n"
     ]
    }
   ],
   "source": [
    "# compose transforms\n",
    "transform_qm9 = transforms.Compose([\n",
    "    TransformComplete(),\n",
    "    transforms.Distance(norm=False),\n",
    "])\n",
    "\n",
    "# load the QM9 dataset\n",
    "data_qm9 = QM9(root = 'data/QM9', transform=transform_qm9)\n",
    "num_samples = len(data_qm9)\n",
    "\n",
    "# normalize targets to mean = 0 and std = 1.\n",
    "mean = data_qm9.data.y.mean(dim=0, keepdim=True)\n",
    "std = data_qm9.data.y.std(dim=0, keepdim=True)\n",
    "data_qm9.data.y = (data_qm9.data.y - mean) / std\n",
    "\n",
    "# split datasets.\n",
    "data_qm9_train = data_qm9[:int(num_samples * 0.8)]\n",
    "data_qm9_valid = data_qm9[int(num_samples * 0.8):num_samples]\n",
    "\n",
    "print('Number of samples: %d' % num_samples)\n",
    "print('%d samples for train; %d samples for valid' \n",
    "      % (len(data_qm9_train), len(data_qm9_valid)))\n",
    "\n",
    "# create data loaders\n",
    "loader_qm9_train = DataLoader(data_qm9_train, batch_size=128, shuffle=True)\n",
    "loader_qm9_valid = DataLoader(data_qm9_valid, batch_size=128, shuffle=False)"
   ]
  },
  {
   "cell_type": "code",
   "execution_count": 7,
   "metadata": {},
   "outputs": [
    {
     "name": "stdout",
     "output_type": "stream",
     "text": [
      "Data(x=[2359210, 11], edge_index=[2, 4883516], edge_attr=[4883516, 4], y=[130831, 19], pos=[2359210, 3], idx=[130831], name=[130831], z=[2359210])\n"
     ]
    }
   ],
   "source": [
    "print(data_qm9.data)"
   ]
  },
  {
   "cell_type": "markdown",
   "metadata": {
    "id": "3cYl-TbeTIQ_"
   },
   "source": [
    "## 1.2. Define the GCN"
   ]
  },
  {
   "cell_type": "code",
   "execution_count": 8,
   "metadata": {
    "id": "IYayudYil8I5"
   },
   "outputs": [],
   "source": [
    "class GCNNetwork(torch.nn.Module):\n",
    "    def __init__(self, in_channels: int, hidden_channels: int, num_outs: int):\n",
    "        super().__init__()\n",
    "        \n",
    "        # stem layer\n",
    "        self.stem  = nn.Linear(in_channels, hidden_channels)\n",
    "\n",
    "        # add GCN layers\n",
    "        self.conv1 = GCNConv(hidden_channels, hidden_channels)\n",
    "        self.conv2 = GCNConv(hidden_channels, hidden_channels)\n",
    "        \n",
    "        # the Set2Set aggregation\n",
    "        self.set2set = Set2Set(hidden_channels, processing_steps=3)\n",
    "\n",
    "        # add linear layers for regression\n",
    "        self.linear_1 = nn.Linear(hidden_channels * 2, hidden_channels)\n",
    "        self.linear_2 = nn.Linear(hidden_channels, num_outs)\n",
    "\n",
    "    def forward(self, x, edge_index, edge_weight, batch):\n",
    "        # stem layer\n",
    "        x = self.stem(x)\n",
    "        x = F.relu(x)\n",
    "        \n",
    "        # GCN layers - 1\n",
    "        x = F.dropout(x, p=0.5, training=self.training)\n",
    "        x = self.conv1(x=x, edge_index=edge_index, edge_weight=edge_weight)\n",
    "        x = F.relu(x)\n",
    "        # GCN layers - 2\n",
    "        x = F.dropout(x, p=0.5, training=self.training)\n",
    "        x = self.conv2(x=x, edge_index=edge_index, edge_weight=edge_weight)\n",
    "        x = F.relu(x)\n",
    "        \n",
    "        # set to set aggregation\n",
    "        x = self.set2set(x, batch)\n",
    "        \n",
    "        # regression head\n",
    "        x = self.linear_1(x)\n",
    "        x = F.relu(x)\n",
    "        x = self.linear_2(x)\n",
    "        return x.squeeze()"
   ]
  },
  {
   "cell_type": "markdown",
   "metadata": {
    "id": "S-jY-ZZDTQFI"
   },
   "source": [
    "## 1.3. Build a GCN and an optimizer"
   ]
  },
  {
   "cell_type": "code",
   "execution_count": 9,
   "metadata": {
    "colab": {
     "base_uri": "https://localhost:8080/"
    },
    "id": "vaOQGoSJS8hS",
    "outputId": "011c01a6-e0c8-4d8a-b5fc-a234e2da11b0"
   },
   "outputs": [
    {
     "name": "stdout",
     "output_type": "stream",
     "text": [
      "model: GCNNetwork(\n",
      "  (stem): Linear(in_features=11, out_features=64, bias=True)\n",
      "  (conv1): GCNConv(64, 64)\n",
      "  (conv2): GCNConv(64, 64)\n",
      "  (set2set): Set2Set(64, 128)\n",
      "  (linear_1): Linear(in_features=128, out_features=64, bias=True)\n",
      "  (linear_2): Linear(in_features=64, out_features=19, bias=True)\n",
      ")\n",
      "optimizer: Adam (\n",
      "Parameter Group 0\n",
      "    amsgrad: False\n",
      "    betas: (0.9, 0.999)\n",
      "    eps: 1e-08\n",
      "    lr: 0.001\n",
      "    weight_decay: 0\n",
      ")\n"
     ]
    }
   ],
   "source": [
    "# initialize the GCN model\n",
    "model_gcn = GCNNetwork(\n",
    "    in_channels=data_qm9.num_features,\n",
    "    hidden_channels=64,\n",
    "    num_outs=19,\n",
    ").to(DEVICE)\n",
    "\n",
    "print('model:', model_gcn)\n",
    "\n",
    "# create an Adam optimizer\n",
    "optimizer_gcn = torch.optim.Adam(\n",
    "    model_gcn.parameters(),\n",
    "    lr=0.001\n",
    ")\n",
    "\n",
    "print('optimizer:', optimizer_gcn)\n",
    "\n",
    "# create a cosine annealing LR scheduler\n",
    "scheduler_gcn = torch.optim.lr_scheduler.CosineAnnealingLR(\n",
    "    optimizer=optimizer_gcn,\n",
    "    T_max=100,\n",
    ")"
   ]
  },
  {
   "cell_type": "markdown",
   "metadata": {
    "id": "ILwt-pks3TG1"
   },
   "source": [
    "## 1.4. Train and evaluate the GCN"
   ]
  },
  {
   "cell_type": "markdown",
   "metadata": {},
   "source": [
    "### 1.4.1. Define the training code"
   ]
  },
  {
   "cell_type": "code",
   "execution_count": 10,
   "metadata": {
    "id": "YBXe3IeI3SyR"
   },
   "outputs": [],
   "source": [
    "def train_gcn(model, optimizer, loader):\n",
    "    model.train()  # set the model to the training mode\n",
    "    loss_all = 0\n",
    "\n",
    "    for data in loader:\n",
    "        data = data.to(DEVICE)  # move data to device, cuda or CPU\n",
    "\n",
    "        optimizer.zero_grad()  # clean previous gradients\n",
    "        \n",
    "        out = model(\n",
    "            x=data.x,\n",
    "            edge_index=data.edge_index,\n",
    "            edge_weight=data.edge_weight,\n",
    "            batch=data.batch,\n",
    "        )  # calculate output\n",
    "\n",
    "        loss = F.mse_loss(out, data.y)  # calculate loss\n",
    "\n",
    "        loss.backward()  # perform back-propagation to calculate gradients\n",
    "\n",
    "        optimizer.step()  # perform gradient descent to update model\n",
    "\n",
    "        loss_all += loss.item() * data.num_graphs  # calculate overall loss\n",
    "    return loss_all / len(loader.dataset)\n",
    "\n",
    "\n",
    "@torch.no_grad()  # validation does not need gradients\n",
    "def valid_gcn(model, loader):\n",
    "    model.eval()  # set the model to the evaluation mode\n",
    "    loss_all = 0\n",
    "\n",
    "    for data in loader:\n",
    "        data = data.to(DEVICE)  # move data to device, cuda or CPU\n",
    "        \n",
    "        out = model(\n",
    "            x=data.x,\n",
    "            edge_index=data.edge_index,\n",
    "            edge_weight=data.edge_weight,\n",
    "            batch=data.batch,\n",
    "        )  # calculate output\n",
    "\n",
    "        loss = F.mse_loss(out, data.y)  # calculate loss\n",
    "\n",
    "        loss_all += loss.item() * data.num_graphs  # calculate overall loss\n",
    "    return loss_all / len(loader.dataset)"
   ]
  },
  {
   "cell_type": "markdown",
   "metadata": {},
   "source": [
    "### 1.4.2. Load a checkpoint for evaluation\n",
    "\n",
    "To save time, we provide a pre-trained checkpoint for evaluation. To train your own model, please refer to `1.4.3`."
   ]
  },
  {
   "cell_type": "code",
   "execution_count": 11,
   "metadata": {},
   "outputs": [
    {
     "data": {
      "text/plain": [
       "<All keys matched successfully>"
      ]
     },
     "execution_count": 12,
     "metadata": {},
     "output_type": "execute_result"
    }
   ],
   "source": [
    "# load the checkpoint from file\n",
    "model_gcn.load_state_dict(\n",
    "    torch.load('model_gcn-weights.pt')\n",
    ")"
   ]
  },
  {
   "cell_type": "code",
   "execution_count": 13,
   "metadata": {},
   "outputs": [
    {
     "name": "stdout",
     "output_type": "stream",
     "text": [
      "valid_loss = 0.25\n"
     ]
    }
   ],
   "source": [
    "loss_valid_gcn_ckpt = valid_gcn(\n",
    "    model=model_gcn,\n",
    "    loader=loader_qm9_valid,\n",
    ")\n",
    "print('valid_loss = %.2f' % (loss_valid_gcn_ckpt,))"
   ]
  },
  {
   "cell_type": "markdown",
   "metadata": {},
   "source": [
    "### 1.4.3. Train your own model"
   ]
  },
  {
   "cell_type": "code",
   "execution_count": 14,
   "metadata": {
    "id": "guxfU4VF7aKH"
   },
   "outputs": [
    {
     "name": "stdout",
     "output_type": "stream",
     "text": [
      "ep 001 (lr=1.00e-03): train_loss=0.69, valid_loss=0.35, 52.98 sec per ep\n",
      "ep 002 (lr=1.00e-03): train_loss=0.62, valid_loss=0.34, 52.98 sec per ep\n",
      "ep 003 (lr=9.99e-04): train_loss=0.61, valid_loss=0.34, 53.09 sec per ep\n",
      "ep 004 (lr=9.98e-04): train_loss=0.60, valid_loss=0.28, 53.08 sec per ep\n",
      "ep 005 (lr=9.96e-04): train_loss=0.59, valid_loss=0.28, 53.09 sec per ep\n",
      "ep 006 (lr=9.94e-04): train_loss=0.58, valid_loss=0.31, 52.98 sec per ep\n",
      "ep 007 (lr=9.91e-04): train_loss=0.57, valid_loss=0.31, 52.89 sec per ep\n",
      "ep 008 (lr=9.88e-04): train_loss=0.57, valid_loss=0.29, 52.83 sec per ep\n",
      "ep 009 (lr=9.84e-04): train_loss=0.55, valid_loss=0.30, 52.82 sec per ep\n",
      "ep 010 (lr=9.80e-04): train_loss=0.55, valid_loss=0.30, 52.78 sec per ep\n",
      "ep 011 (lr=9.76e-04): train_loss=0.51, valid_loss=0.28, 52.74 sec per ep\n",
      "ep 012 (lr=9.70e-04): train_loss=0.50, valid_loss=0.28, 52.71 sec per ep\n",
      "ep 013 (lr=9.65e-04): train_loss=0.55, valid_loss=0.26, 52.69 sec per ep\n",
      "ep 014 (lr=9.59e-04): train_loss=0.53, valid_loss=0.28, 52.67 sec per ep\n",
      "ep 015 (lr=9.52e-04): train_loss=0.49, valid_loss=0.27, 52.65 sec per ep\n",
      "ep 016 (lr=9.46e-04): train_loss=0.51, valid_loss=0.29, 52.66 sec per ep\n",
      "ep 017 (lr=9.38e-04): train_loss=0.49, valid_loss=0.29, 52.65 sec per ep\n",
      "ep 018 (lr=9.30e-04): train_loss=0.52, valid_loss=0.28, 52.64 sec per ep\n",
      "ep 019 (lr=9.22e-04): train_loss=0.48, valid_loss=0.27, 52.63 sec per ep\n",
      "ep 020 (lr=9.14e-04): train_loss=0.51, valid_loss=0.30, 52.63 sec per ep\n",
      "ep 021 (lr=9.05e-04): train_loss=0.48, valid_loss=0.27, 52.62 sec per ep\n",
      "ep 022 (lr=8.95e-04): train_loss=0.49, valid_loss=0.28, 52.62 sec per ep\n",
      "ep 023 (lr=8.85e-04): train_loss=0.53, valid_loss=0.26, 52.62 sec per ep\n",
      "ep 024 (lr=8.75e-04): train_loss=0.47, valid_loss=0.27, 52.64 sec per ep\n",
      "ep 025 (lr=8.64e-04): train_loss=0.49, valid_loss=0.27, 52.66 sec per ep\n",
      "ep 026 (lr=8.54e-04): train_loss=0.49, valid_loss=0.27, 52.67 sec per ep\n",
      "ep 027 (lr=8.42e-04): train_loss=0.47, valid_loss=0.26, 52.69 sec per ep\n",
      "ep 028 (lr=8.31e-04): train_loss=0.48, valid_loss=0.28, 52.70 sec per ep\n",
      "ep 029 (lr=8.19e-04): train_loss=0.47, valid_loss=0.26, 52.73 sec per ep\n",
      "ep 030 (lr=8.06e-04): train_loss=0.50, valid_loss=0.28, 52.74 sec per ep\n",
      "ep 031 (lr=7.94e-04): train_loss=0.48, valid_loss=0.28, 52.75 sec per ep\n",
      "ep 032 (lr=7.81e-04): train_loss=0.49, valid_loss=0.26, 52.76 sec per ep\n",
      "ep 033 (lr=7.68e-04): train_loss=0.48, valid_loss=0.26, 52.77 sec per ep\n",
      "ep 034 (lr=7.55e-04): train_loss=0.47, valid_loss=0.27, 52.77 sec per ep\n",
      "ep 038 (lr=6.99e-04): train_loss=0.47, valid_loss=0.26, 52.82 sec per ep\n",
      "ep 039 (lr=6.84e-04): train_loss=0.47, valid_loss=0.27, 52.82 sec per ep\n",
      "ep 040 (lr=6.69e-04): train_loss=0.48, valid_loss=0.26, 52.83 sec per ep\n",
      "ep 041 (lr=6.55e-04): train_loss=0.48, valid_loss=0.26, 52.84 sec per ep\n",
      "ep 042 (lr=6.39e-04): train_loss=0.46, valid_loss=0.26, 52.85 sec per ep\n",
      "ep 043 (lr=6.24e-04): train_loss=0.45, valid_loss=0.26, 52.85 sec per ep\n",
      "ep 044 (lr=6.09e-04): train_loss=0.46, valid_loss=0.27, 52.86 sec per ep\n",
      "ep 045 (lr=5.94e-04): train_loss=0.46, valid_loss=0.26, 52.86 sec per ep\n",
      "ep 046 (lr=5.78e-04): train_loss=0.45, valid_loss=0.25, 52.87 sec per ep\n",
      "ep 047 (lr=5.63e-04): train_loss=0.48, valid_loss=0.26, 52.87 sec per ep\n",
      "ep 048 (lr=5.47e-04): train_loss=0.52, valid_loss=0.26, 52.88 sec per ep\n",
      "ep 049 (lr=5.31e-04): train_loss=0.46, valid_loss=0.26, 52.89 sec per ep\n",
      "ep 050 (lr=5.16e-04): train_loss=0.47, valid_loss=0.26, 52.89 sec per ep\n",
      "ep 051 (lr=5.00e-04): train_loss=0.47, valid_loss=0.26, 52.90 sec per ep\n",
      "ep 052 (lr=4.84e-04): train_loss=0.45, valid_loss=0.26, 52.90 sec per ep\n",
      "ep 053 (lr=4.69e-04): train_loss=0.44, valid_loss=0.27, 52.90 sec per ep\n",
      "ep 054 (lr=4.53e-04): train_loss=0.45, valid_loss=0.27, 52.90 sec per ep\n",
      "ep 055 (lr=4.37e-04): train_loss=0.44, valid_loss=0.26, 52.91 sec per ep\n",
      "ep 056 (lr=4.22e-04): train_loss=0.45, valid_loss=0.25, 52.91 sec per ep\n",
      "ep 057 (lr=4.06e-04): train_loss=0.46, valid_loss=0.25, 52.92 sec per ep\n",
      "ep 058 (lr=3.91e-04): train_loss=0.46, valid_loss=0.27, 52.92 sec per ep\n",
      "ep 059 (lr=3.76e-04): train_loss=0.45, valid_loss=0.26, 52.92 sec per ep\n",
      "ep 060 (lr=3.61e-04): train_loss=0.44, valid_loss=0.26, 52.92 sec per ep\n",
      "ep 061 (lr=3.45e-04): train_loss=0.45, valid_loss=0.26, 52.93 sec per ep\n",
      "ep 062 (lr=3.31e-04): train_loss=0.45, valid_loss=0.26, 52.93 sec per ep\n",
      "ep 063 (lr=3.16e-04): train_loss=0.46, valid_loss=0.26, 52.94 sec per ep\n",
      "ep 064 (lr=3.01e-04): train_loss=0.45, valid_loss=0.26, 52.94 sec per ep\n",
      "ep 065 (lr=2.87e-04): train_loss=0.44, valid_loss=0.26, 52.94 sec per ep\n",
      "ep 066 (lr=2.73e-04): train_loss=0.45, valid_loss=0.25, 52.94 sec per ep\n",
      "ep 067 (lr=2.59e-04): train_loss=0.45, valid_loss=0.27, 52.94 sec per ep\n",
      "ep 068 (lr=2.45e-04): train_loss=0.44, valid_loss=0.26, 52.94 sec per ep\n",
      "ep 069 (lr=2.32e-04): train_loss=0.46, valid_loss=0.26, 52.92 sec per ep\n",
      "ep 070 (lr=2.19e-04): train_loss=0.44, valid_loss=0.25, 52.90 sec per ep\n",
      "ep 071 (lr=2.06e-04): train_loss=0.45, valid_loss=0.25, 52.88 sec per ep\n",
      "ep 072 (lr=1.94e-04): train_loss=0.46, valid_loss=0.25, 52.86 sec per ep\n",
      "ep 073 (lr=1.81e-04): train_loss=0.43, valid_loss=0.25, 52.84 sec per ep\n",
      "ep 074 (lr=1.69e-04): train_loss=0.44, valid_loss=0.25, 52.82 sec per ep\n",
      "ep 075 (lr=1.58e-04): train_loss=0.45, valid_loss=0.25, 52.81 sec per ep\n",
      "ep 076 (lr=1.46e-04): train_loss=0.44, valid_loss=0.26, 52.79 sec per ep\n",
      "ep 077 (lr=1.36e-04): train_loss=0.45, valid_loss=0.25, 52.77 sec per ep\n",
      "ep 078 (lr=1.25e-04): train_loss=0.44, valid_loss=0.25, 52.76 sec per ep\n",
      "ep 079 (lr=1.15e-04): train_loss=0.44, valid_loss=0.25, 52.74 sec per ep\n",
      "ep 080 (lr=1.05e-04): train_loss=0.45, valid_loss=0.25, 52.72 sec per ep\n",
      "ep 081 (lr=9.55e-05): train_loss=0.45, valid_loss=0.25, 52.71 sec per ep\n",
      "ep 082 (lr=8.65e-05): train_loss=0.43, valid_loss=0.25, 52.70 sec per ep\n",
      "ep 083 (lr=7.78e-05): train_loss=0.43, valid_loss=0.25, 52.69 sec per ep\n",
      "ep 084 (lr=6.96e-05): train_loss=0.43, valid_loss=0.25, 52.69 sec per ep\n",
      "ep 085 (lr=6.18e-05): train_loss=0.43, valid_loss=0.25, 52.69 sec per ep\n",
      "ep 086 (lr=5.45e-05): train_loss=0.43, valid_loss=0.25, 52.68 sec per ep\n",
      "ep 087 (lr=4.76e-05): train_loss=0.43, valid_loss=0.25, 52.68 sec per ep\n",
      "ep 088 (lr=4.11e-05): train_loss=0.43, valid_loss=0.25, 52.68 sec per ep\n",
      "ep 089 (lr=3.51e-05): train_loss=0.44, valid_loss=0.25, 52.68 sec per ep\n",
      "ep 090 (lr=2.96e-05): train_loss=0.45, valid_loss=0.25, 52.68 sec per ep\n",
      "ep 091 (lr=2.45e-05): train_loss=0.44, valid_loss=0.25, 52.68 sec per ep\n",
      "ep 092 (lr=1.99e-05): train_loss=0.43, valid_loss=0.25, 52.67 sec per ep\n",
      "ep 093 (lr=1.57e-05): train_loss=0.43, valid_loss=0.25, 52.67 sec per ep\n",
      "ep 094 (lr=1.20e-05): train_loss=0.43, valid_loss=0.25, 52.67 sec per ep\n",
      "ep 095 (lr=8.86e-06): train_loss=0.44, valid_loss=0.25, 52.67 sec per ep\n",
      "ep 096 (lr=6.16e-06): train_loss=0.44, valid_loss=0.25, 52.68 sec per ep\n",
      "ep 097 (lr=3.94e-06): train_loss=0.43, valid_loss=0.25, 52.68 sec per ep\n",
      "ep 098 (lr=2.22e-06): train_loss=0.42, valid_loss=0.25, 52.69 sec per ep\n",
      "ep 099 (lr=9.87e-07): train_loss=0.44, valid_loss=0.25, 52.69 sec per ep\n",
      "ep 100 (lr=2.47e-07): train_loss=0.44, valid_loss=0.25, 52.69 sec per ep\n",
      "trained in 87.82 minutes\n"
     ]
    }
   ],
   "source": [
    "loss_gcn_train = []\n",
    "loss_gcn_valid = []\n",
    "train_time = []\n",
    "\n",
    "time_stamp_start = time.time()\n",
    "\n",
    "for epoch in range(100):\n",
    "    \n",
    "    _curr_lr = scheduler_gcn.optimizer.param_groups[0]['lr']\n",
    "\n",
    "    _l_train = train_gcn(\n",
    "        model=model_gcn,\n",
    "        optimizer=optimizer_gcn,\n",
    "        loader=loader_qm9_train,\n",
    "    )\n",
    "    loss_gcn_train.append(_l_train)\n",
    "\n",
    "    _l_valid = valid_gcn(\n",
    "        model=model_gcn,\n",
    "        loader=loader_qm9_valid,\n",
    "    )\n",
    "    loss_gcn_valid.append(_l_valid)\n",
    "    \n",
    "    scheduler_gcn.step()\n",
    "    \n",
    "    train_time.append(\n",
    "        (time.time() - time_stamp_start) / (epoch + 1)\n",
    "    )    \n",
    "    print('ep %03d (lr=%.2e): train_loss=%.2f, valid_loss=%.2f, %.2f sec per ep'\n",
    "          % (epoch + 1, _curr_lr, loss_gcn_train[-1], loss_gcn_valid[-1], train_time[-1]))\n",
    "\n",
    "print('trained in %.2f minutes' % ((time.time() - time_stamp_start) / 60,))"
   ]
  },
  {
   "cell_type": "code",
   "execution_count": 15,
   "metadata": {},
   "outputs": [],
   "source": [
    "def draw_plot_gcn(loss_train_array, loss_valid_array):\n",
    "    fig, ax1 = plt.subplots(figsize=(4, 3), dpi=144)\n",
    "    ax2 = ax1.twinx()\n",
    "    handles = []\n",
    "    \n",
    "    _p, = ax1.plot(loss_train_array, label='train', color='blue')\n",
    "    handles.append(_p)\n",
    "    _p, = ax2.plot(loss_valid_array, label='valid', color='red')\n",
    "    handles.append(_p)\n",
    "    \n",
    "    ax1.legend(handles=handles)\n",
    "    ax1.set_xlabel('epoch')\n",
    "    ax1.set_ylabel('train')\n",
    "    ax2.set_ylabel('valid')\n",
    "\n",
    "    plt.show()"
   ]
  },
  {
   "cell_type": "code",
   "execution_count": 16,
   "metadata": {},
   "outputs": [
    {
     "data": {
      "image/png": "[encoded data removed]",
      "text/plain": [
       "<Figure size 576x432 with 2 Axes>"
      ]
     },
     "metadata": {
      "needs_background": "light"
     },
     "output_type": "display_data"
    }
   ],
   "source": [
    "draw_plot_gcn(\n",
    "    loss_train_array=loss_gcn_train,\n",
    "    loss_valid_array=loss_gcn_valid,\n",
    ")"
   ]
  },
  {
   "cell_type": "markdown",
   "metadata": {},
   "source": [
    "## 1.5. Save the model to a file"
   ]
  },
  {
   "cell_type": "code",
   "execution_count": 17,
   "metadata": {},
   "outputs": [
    {
     "name": "stdout",
     "output_type": "stream",
     "text": [
      "odict_keys(['stem.weight', 'stem.bias', 'conv1.bias', 'conv1.lin.weight', 'conv2.bias', 'conv2.lin.weight', 'set2set.lstm.weight_ih_l0', 'set2set.lstm.weight_hh_l0', 'set2set.lstm.bias_ih_l0', 'set2set.lstm.bias_hh_l0', 'linear_1.weight', 'linear_1.bias', 'linear_2.weight', 'linear_2.bias'])\n"
     ]
    }
   ],
   "source": [
    "model_gcn_weights = model_gcn.state_dict()\n",
    "print(model_gcn_weights.keys())"
   ]
  },
  {
   "cell_type": "code",
   "execution_count": 18,
   "metadata": {},
   "outputs": [],
   "source": [
    "torch.save(model_gcn_weights, 'model_gcn-weights.pt')"
   ]
  },
  {
   "cell_type": "markdown",
   "metadata": {
    "id": "msBVAhkRLZ8a"
   },
   "source": [
    "# 2 . Variational Graph Auto-Encoders"
   ]
  },
  {
   "cell_type": "markdown",
   "metadata": {
    "id": "ky1v39jRcToG"
   },
   "source": [
    "Now, we use a VGAE (Kipf *et al.*, 2016) to generate molecule graphs."
   ]
  },
  {
   "cell_type": "markdown",
   "metadata": {},
   "source": [
    "## 2.1. Load Dataset\n",
    "\n",
    "We still use the QM9 dataset but with the `NormalizeFeatures` transform."
   ]
  },
  {
   "cell_type": "code",
   "execution_count": 19,
   "metadata": {},
   "outputs": [
    {
     "name": "stdout",
     "output_type": "stream",
     "text": [
      "Number of samples: 130831\n",
      "104664 samples for train; 26167 samples for valid\n"
     ]
    }
   ],
   "source": [
    "# compose transforms\n",
    "transform_qm9_vgae = transforms.Compose([\n",
    "    transforms.NormalizeFeatures(),\n",
    "])\n",
    "\n",
    "# load the QM9 dataset\n",
    "data_qm9_vgae = QM9(root = 'data/QM9', transform=transform_qm9_vgae)\n",
    "num_samples_vgae = len(data_qm9_vgae)\n",
    "\n",
    "# normalize targets to mean = 0 and std = 1\n",
    "mean = data_qm9_vgae.data.y.mean(dim=0, keepdim=True)\n",
    "std = data_qm9_vgae.data.y.std(dim=0, keepdim=True)\n",
    "data_qm9_vgae.data.y = (data_qm9_vgae.data.y - mean) / std\n",
    "\n",
    "# split datasets\n",
    "data_qm9_train_vgae = data_qm9_vgae[:int(num_samples_vgae * 0.8)]\n",
    "data_qm9_valid_vgae = data_qm9_vgae[int(num_samples_vgae * 0.8):num_samples_vgae]\n",
    "\n",
    "print('Number of samples: %d' % num_samples_vgae)\n",
    "print('%d samples for train; %d samples for valid' \n",
    "      % (len(data_qm9_train_vgae), len(data_qm9_valid_vgae)))\n",
    "\n",
    "# create data loaders\n",
    "loader_qm9_train_vgae = DataLoader(data_qm9_train_vgae, batch_size=128, shuffle=True)\n",
    "loader_qm9_valid_vgae = DataLoader(data_qm9_valid_vgae, batch_size=128, shuffle=False)"
   ]
  },
  {
   "cell_type": "code",
   "execution_count": 20,
   "metadata": {},
   "outputs": [
    {
     "name": "stdout",
     "output_type": "stream",
     "text": [
      "Data(x=[2359210, 11], edge_index=[2, 4883516], edge_attr=[4883516, 4], y=[130831, 19], pos=[2359210, 3], idx=[130831], name=[130831], z=[2359210])\n"
     ]
    }
   ],
   "source": [
    "print(data_qm9_vgae.data)"
   ]
  },
  {
   "cell_type": "markdown",
   "metadata": {
    "id": "fCZ6XcfqXa88"
   },
   "source": [
    "## 2.2. Define the variational auto-encoder"
   ]
  },
  {
   "cell_type": "code",
   "execution_count": 21,
   "metadata": {
    "id": "0H6I4O48Z0_G"
   },
   "outputs": [],
   "source": [
    "class VariationalGCNEncoder(torch.nn.Module):\n",
    "    def __init__(self, in_channels, hidden_channels, out_channels):\n",
    "        super(VariationalGCNEncoder, self).__init__()\n",
    "        self.conv1 = GCNConv(in_channels, hidden_channels)\n",
    "        self.conv_mu = GCNConv(hidden_channels, out_channels)\n",
    "        self.conv_logstd = GCNConv(hidden_channels, out_channels)\n",
    "\n",
    "    def forward(self, x, edge_index):\n",
    "        x = self.conv1(x, edge_index).relu()\n",
    "        return self.conv_mu(x, edge_index), self.conv_logstd(x, edge_index)"
   ]
  },
  {
   "cell_type": "markdown",
   "metadata": {
    "id": "QAt8jjGHXewt"
   },
   "source": [
    "## 2.3. Build a VGAE and an optimizer"
   ]
  },
  {
   "cell_type": "code",
   "execution_count": 22,
   "metadata": {
    "colab": {
     "base_uri": "https://localhost:8080/"
    },
    "id": "yOxqGr87XiNu",
    "outputId": "21bdbd4c-9cb9-45bf-cc55-0e314a1c4d50"
   },
   "outputs": [
    {
     "name": "stdout",
     "output_type": "stream",
     "text": [
      "VGAE(\n",
      "  (encoder): VariationalGCNEncoder(\n",
      "    (conv1): GCNConv(11, 64)\n",
      "    (conv_mu): GCNConv(64, 2)\n",
      "    (conv_logstd): GCNConv(64, 2)\n",
      "  )\n",
      "  (decoder): InnerProductDecoder()\n",
      ")\n",
      "optimizer: Adam (\n",
      "Parameter Group 0\n",
      "    amsgrad: False\n",
      "    betas: (0.9, 0.999)\n",
      "    eps: 1e-08\n",
      "    lr: 0.005\n",
      "    weight_decay: 0\n",
      ")\n"
     ]
    }
   ],
   "source": [
    "# initialize the VGAE model\n",
    "model_vgae = VGAE(\n",
    "    encoder=VariationalGCNEncoder(\n",
    "        in_channels=data_qm9_vgae.num_features,\n",
    "        hidden_channels=64,\n",
    "        out_channels=2,\n",
    "    ),\n",
    "    decoder=InnerProductDecoder()\n",
    ").to(DEVICE)\n",
    "\n",
    "print(model_vgae)\n",
    "\n",
    "# create an Adam optimizer\n",
    "optimizer_vgae = torch.optim.Adam(\n",
    "    model_vgae.parameters(),\n",
    "    lr=0.005\n",
    ")\n",
    "\n",
    "print('optimizer:', optimizer_vgae)\n",
    "\n",
    "# create a cosine annealing LR scheduler\n",
    "scheduler_vgae = torch.optim.lr_scheduler.CosineAnnealingLR(\n",
    "    optimizer=optimizer_vgae,\n",
    "    T_max=100,\n",
    ")"
   ]
  },
  {
   "cell_type": "markdown",
   "metadata": {
    "id": "GKmisRffT39s"
   },
   "source": [
    "## 2.4. Train and evaluate the GCN"
   ]
  },
  {
   "cell_type": "markdown",
   "metadata": {},
   "source": [
    "### 2.4.1. Define the training code"
   ]
  },
  {
   "cell_type": "code",
   "execution_count": 23,
   "metadata": {
    "id": "vrV0PyEFewcc"
   },
   "outputs": [],
   "source": [
    "def vgae_train(model, optimizer, loader):\n",
    "    model.train()  # set the model to the training mode\n",
    "    loss_all = 0\n",
    "\n",
    "    for data in loader:\n",
    "        data = data.to(DEVICE)  # move data to device, cuda or CPU\n",
    "        optimizer.zero_grad()  # clean previous gradients\n",
    "\n",
    "        z = model.encode(data.x, data.edge_index)  # calculate output\n",
    "\n",
    "        # loss = reconstruction_loss + kl_divergency_loss\n",
    "        loss = model.recon_loss(z, data.edge_index) + (1 / data.num_nodes) * model.kl_loss()\n",
    "        # loss = model.recon_loss(z, data.edge_index)\n",
    "\n",
    "        loss.backward()  # perform back-propagation to calculate gradients\n",
    "        optimizer.step()  # perform gradient descent to update model\n",
    "\n",
    "        loss_all += loss.item() * data.num_graphs  # calculate overall loss\n",
    "    return loss_all / len(loader.dataset)\n",
    "\n",
    "\n",
    "@torch.no_grad()  # validation does not need gradients\n",
    "def vgae_valid(model, loader):\n",
    "    model.eval()  # set the model to the evaluation mode\n",
    "    auc_all = 0\n",
    "    ap_all = 0\n",
    "\n",
    "    for data in loader:\n",
    "        data = data.to(DEVICE)  # move data to device, cuda or CPU\n",
    "\n",
    "        z = model.encode(data.x, data.edge_index)  # calculate output\n",
    "\n",
    "        # generate negative samples for evaluation\n",
    "        neg_edge_index = negative_sampling(\n",
    "            edge_index=data.edge_index,\n",
    "            num_nodes=data.num_nodes,\n",
    "            num_neg_samples=data.edge_index.size(1),\n",
    "        )\n",
    "        \n",
    "        auc, ap = model.test(z, pos_edge_index=data.edge_index, neg_edge_index=neg_edge_index)\n",
    "\n",
    "        auc_all += auc.item() * data.num_graphs  # calculate overall loss\n",
    "        ap_all += ap.item() * data.num_graphs  # calculate overall loss\n",
    "    return auc_all / len(loader.dataset), ap_all / len(loader.dataset)"
   ]
  },
  {
   "cell_type": "markdown",
   "metadata": {},
   "source": [
    "### 2.4.2. Load a checkpoint for evaluation\n",
    "\n",
    "To save time, we provide a pre-trained checkpoint for evaluation. To train your own model, please refer to `2.4.3`."
   ]
  },
  {
   "cell_type": "code",
   "execution_count": 24,
   "metadata": {},
   "outputs": [
    {
     "data": {
      "text/plain": [
       "<All keys matched successfully>"
      ]
     },
     "execution_count": 25,
     "metadata": {},
     "output_type": "execute_result"
    }
   ],
   "source": [
    "# load the checkpoint from file\n",
    "model_vgae.load_state_dict(\n",
    "    torch.load('model_vgae-weights.pt')\n",
    ")"
   ]
  },
  {
   "cell_type": "code",
   "execution_count": 26,
   "metadata": {},
   "outputs": [
    {
     "name": "stdout",
     "output_type": "stream",
     "text": [
      "valid_auc=0.81, valid_ap=0.78\n"
     ]
    }
   ],
   "source": [
    "auc_valid_vgae_ckpt, ap_valid_vgae_ckpt = vgae_valid(\n",
    "    model=model_vgae,\n",
    "    loader=loader_qm9_valid_vgae,\n",
    ")\n",
    "print('valid_auc=%.2f, valid_ap=%.2f' % (auc_valid_vgae_ckpt, ap_valid_vgae_ckpt))"
   ]
  },
  {
   "cell_type": "markdown",
   "metadata": {},
   "source": [
    "### 2.4.3. Train your own model"
   ]
  },
  {
   "cell_type": "code",
   "execution_count": 27,
   "metadata": {},
   "outputs": [
    {
     "name": "stdout",
     "output_type": "stream",
     "text": [
      "ep 001 (lr=5.00e-03): train_loss=1.23, valid_auc=0.75, valid_ap=0.72, 14.83 sec per ep\n",
      "ep 002 (lr=5.00e-03): train_loss=1.14, valid_auc=0.78, valid_ap=0.74, 14.96 sec per ep\n",
      "ep 003 (lr=5.00e-03): train_loss=1.13, valid_auc=0.79, valid_ap=0.75, 14.90 sec per ep\n",
      "ep 004 (lr=4.99e-03): train_loss=1.11, valid_auc=0.80, valid_ap=0.77, 14.86 sec per ep\n",
      "ep 005 (lr=4.98e-03): train_loss=1.10, valid_auc=0.80, valid_ap=0.76, 14.84 sec per ep\n",
      "ep 006 (lr=4.97e-03): train_loss=1.10, valid_auc=0.80, valid_ap=0.77, 14.83 sec per ep\n",
      "ep 007 (lr=4.96e-03): train_loss=1.10, valid_auc=0.80, valid_ap=0.77, 14.82 sec per ep\n",
      "ep 008 (lr=4.94e-03): train_loss=1.09, valid_auc=0.81, valid_ap=0.78, 14.84 sec per ep\n",
      "ep 009 (lr=4.92e-03): train_loss=1.09, valid_auc=0.80, valid_ap=0.77, 14.83 sec per ep\n",
      "ep 010 (lr=4.90e-03): train_loss=1.09, valid_auc=0.81, valid_ap=0.77, 14.81 sec per ep\n",
      "ep 011 (lr=4.88e-03): train_loss=1.09, valid_auc=0.80, valid_ap=0.77, 14.81 sec per ep\n",
      "ep 012 (lr=4.85e-03): train_loss=1.09, valid_auc=0.81, valid_ap=0.77, 14.81 sec per ep\n",
      "ep 013 (lr=4.82e-03): train_loss=1.09, valid_auc=0.80, valid_ap=0.77, 14.80 sec per ep\n",
      "ep 014 (lr=4.79e-03): train_loss=1.09, valid_auc=0.81, valid_ap=0.77, 14.79 sec per ep\n",
      "ep 015 (lr=4.76e-03): train_loss=1.09, valid_auc=0.81, valid_ap=0.77, 14.81 sec per ep\n",
      "ep 016 (lr=4.73e-03): train_loss=1.09, valid_auc=0.81, valid_ap=0.78, 14.81 sec per ep\n",
      "ep 017 (lr=4.69e-03): train_loss=1.09, valid_auc=0.81, valid_ap=0.78, 14.80 sec per ep\n",
      "ep 018 (lr=4.65e-03): train_loss=1.09, valid_auc=0.81, valid_ap=0.78, 14.80 sec per ep\n",
      "ep 019 (lr=4.61e-03): train_loss=1.09, valid_auc=0.81, valid_ap=0.77, 14.79 sec per ep\n",
      "ep 020 (lr=4.57e-03): train_loss=1.09, valid_auc=0.80, valid_ap=0.77, 14.79 sec per ep\n",
      "ep 021 (lr=4.52e-03): train_loss=1.09, valid_auc=0.81, valid_ap=0.78, 14.79 sec per ep\n",
      "ep 022 (lr=4.48e-03): train_loss=1.09, valid_auc=0.81, valid_ap=0.77, 14.80 sec per ep\n",
      "ep 023 (lr=4.43e-03): train_loss=1.09, valid_auc=0.81, valid_ap=0.78, 14.80 sec per ep\n",
      "ep 024 (lr=4.38e-03): train_loss=1.09, valid_auc=0.81, valid_ap=0.77, 14.80 sec per ep\n",
      "ep 025 (lr=4.32e-03): train_loss=1.09, valid_auc=0.81, valid_ap=0.78, 14.79 sec per ep\n",
      "ep 026 (lr=4.27e-03): train_loss=1.09, valid_auc=0.81, valid_ap=0.77, 14.79 sec per ep\n",
      "ep 027 (lr=4.21e-03): train_loss=1.09, valid_auc=0.81, valid_ap=0.77, 14.79 sec per ep\n",
      "ep 028 (lr=4.15e-03): train_loss=1.09, valid_auc=0.81, valid_ap=0.78, 14.80 sec per ep\n",
      "ep 029 (lr=4.09e-03): train_loss=1.08, valid_auc=0.81, valid_ap=0.78, 14.80 sec per ep\n",
      "ep 030 (lr=4.03e-03): train_loss=1.08, valid_auc=0.81, valid_ap=0.77, 14.79 sec per ep\n",
      "ep 031 (lr=3.97e-03): train_loss=1.08, valid_auc=0.81, valid_ap=0.78, 14.80 sec per ep\n",
      "ep 032 (lr=3.91e-03): train_loss=1.08, valid_auc=0.81, valid_ap=0.78, 14.80 sec per ep\n",
      "ep 033 (lr=3.84e-03): train_loss=1.08, valid_auc=0.81, valid_ap=0.78, 14.81 sec per ep\n",
      "ep 034 (lr=3.77e-03): train_loss=1.08, valid_auc=0.80, valid_ap=0.77, 14.81 sec per ep\n",
      "ep 035 (lr=3.70e-03): train_loss=1.08, valid_auc=0.81, valid_ap=0.78, 14.82 sec per ep\n",
      "ep 036 (lr=3.63e-03): train_loss=1.08, valid_auc=0.81, valid_ap=0.78, 14.82 sec per ep\n",
      "ep 037 (lr=3.56e-03): train_loss=1.08, valid_auc=0.80, valid_ap=0.77, 14.82 sec per ep\n",
      "ep 038 (lr=3.49e-03): train_loss=1.08, valid_auc=0.81, valid_ap=0.78, 14.82 sec per ep\n",
      "ep 039 (lr=3.42e-03): train_loss=1.08, valid_auc=0.81, valid_ap=0.77, 14.82 sec per ep\n",
      "ep 040 (lr=3.35e-03): train_loss=1.08, valid_auc=0.81, valid_ap=0.78, 14.82 sec per ep\n",
      "ep 041 (lr=3.27e-03): train_loss=1.08, valid_auc=0.81, valid_ap=0.78, 14.82 sec per ep\n",
      "ep 042 (lr=3.20e-03): train_loss=1.08, valid_auc=0.81, valid_ap=0.78, 14.82 sec per ep\n",
      "ep 043 (lr=3.12e-03): train_loss=1.08, valid_auc=0.81, valid_ap=0.78, 14.82 sec per ep\n",
      "ep 044 (lr=3.05e-03): train_loss=1.08, valid_auc=0.81, valid_ap=0.78, 14.82 sec per ep\n",
      "ep 045 (lr=2.97e-03): train_loss=1.08, valid_auc=0.81, valid_ap=0.78, 14.82 sec per ep\n",
      "ep 046 (lr=2.89e-03): train_loss=1.08, valid_auc=0.81, valid_ap=0.78, 14.82 sec per ep\n",
      "ep 047 (lr=2.81e-03): train_loss=1.08, valid_auc=0.81, valid_ap=0.78, 14.82 sec per ep\n",
      "ep 048 (lr=2.74e-03): train_loss=1.08, valid_auc=0.81, valid_ap=0.78, 14.82 sec per ep\n",
      "ep 049 (lr=2.66e-03): train_loss=1.08, valid_auc=0.81, valid_ap=0.78, 14.82 sec per ep\n",
      "ep 050 (lr=2.58e-03): train_loss=1.08, valid_auc=0.81, valid_ap=0.78, 14.82 sec per ep\n",
      "trained in 12.35 minutes\n"
     ]
    }
   ],
   "source": [
    "loss_vgae_train = []\n",
    "auc_vgae_valid = []\n",
    "ap_vgae_valid = []\n",
    "train_time_vgae = []\n",
    "\n",
    "time_stamp_start_vgae = time.time()\n",
    "\n",
    "for epoch in range(50):\n",
    "    \n",
    "    _curr_lr = scheduler_vgae.optimizer.param_groups[0]['lr']\n",
    "\n",
    "    _l_train = vgae_train(\n",
    "        model=model_vgae,\n",
    "        optimizer=optimizer_vgae,\n",
    "        loader=loader_qm9_train_vgae,\n",
    "    )\n",
    "    loss_vgae_train.append(_l_train)\n",
    "\n",
    "    _auc_valid, _ap_valid = vgae_valid(\n",
    "        model=model_vgae,\n",
    "        loader=loader_qm9_valid_vgae,\n",
    "    )\n",
    "\n",
    "    auc_vgae_valid.append(_auc_valid)\n",
    "    ap_vgae_valid.append(_ap_valid)\n",
    "    \n",
    "    scheduler_vgae.step()\n",
    "    \n",
    "    train_time_vgae.append(\n",
    "        (time.time() - time_stamp_start_vgae) / (epoch + 1)\n",
    "    )    \n",
    "    print('ep %03d (lr=%.2e): train_loss=%.2f, valid_auc=%.2f, valid_ap=%.2f, %.2f sec per ep'\n",
    "          % (epoch + 1, _curr_lr, loss_vgae_train[-1],\n",
    "             auc_vgae_valid[-1], ap_vgae_valid[-1], train_time_vgae[-1]))\n",
    "\n",
    "print('trained in %.2f minutes' % ((time.time() - time_stamp_start_vgae) / 60,))"
   ]
  },
  {
   "cell_type": "code",
   "execution_count": 28,
   "metadata": {},
   "outputs": [],
   "source": [
    "def draw_plot_vgae(valid_auc, valid_ap):\n",
    "    fig, ax1 = plt.subplots(figsize=(4, 3), dpi=144)\n",
    "    ax2 = ax1.twinx()\n",
    "    handles = []\n",
    "    \n",
    "    _p, = ax1.plot(valid_auc, label='valid_auc', color='blue')\n",
    "    handles.append(_p)\n",
    "    _p, = ax2.plot(valid_ap, label='valid_ap', color='red')\n",
    "    handles.append(_p)\n",
    "    \n",
    "    ax1.legend(handles=handles)\n",
    "    ax1.set_xlabel('epoch')\n",
    "    ax1.set_ylabel('valid_auc')\n",
    "    ax2.set_ylabel('valid_ap')\n",
    "\n",
    "    plt.show()"
   ]
  },
  {
   "cell_type": "code",
   "execution_count": 29,
   "metadata": {},
   "outputs": [
    {
     "data": {
      "image/png": "[encoded data removed]",
      "text/plain": [
       "<Figure size 576x432 with 2 Axes>"
      ]
     },
     "metadata": {
      "needs_background": "light"
     },
     "output_type": "display_data"
    }
   ],
   "source": [
    "draw_plot_vgae(\n",
    "    valid_auc=auc_vgae_valid,\n",
    "    valid_ap=ap_vgae_valid,\n",
    ")"
   ]
  },
  {
   "cell_type": "markdown",
   "metadata": {},
   "source": [
    "## 2.5. Save the model to a file"
   ]
  },
  {
   "cell_type": "code",
   "execution_count": 30,
   "metadata": {},
   "outputs": [
    {
     "name": "stdout",
     "output_type": "stream",
     "text": [
      "odict_keys(['encoder.conv1.bias', 'encoder.conv1.lin.weight', 'encoder.conv_mu.bias', 'encoder.conv_mu.lin.weight', 'encoder.conv_logstd.bias', 'encoder.conv_logstd.lin.weight'])\n"
     ]
    }
   ],
   "source": [
    "model_vgae_weights = model_vgae.state_dict()\n",
    "print(model_vgae_weights.keys())"
   ]
  },
  {
   "cell_type": "code",
   "execution_count": 31,
   "metadata": {},
   "outputs": [],
   "source": [
    "torch.save(model_vgae_weights, 'model_vgae-weights.pt')"
   ]
  },
  {
   "cell_type": "markdown",
   "metadata": {
    "id": "SjhqQZ1WaBSM"
   },
   "source": [
    "# Reference\n",
    "\n",
    "- Kipf *et al.*, *Variational Graph Auto-Encoders*. In *Bayesian Deep Learning Workshop at Neural Information Processing Systems (NeurIPS)*, 2016. [[Link](https://arxiv.org/abs/1611.07308)]\n",
    "- Kipf *et al.*, *Semi-supervised Classification with Graph Convolutional Networks*. In *Proceedings of the International Conference on Learning Representations (ICLR)*, 2017. [[Link](https://arxiv.org/abs/1609.02907)]\n",
    "- Wu *et al.*, *MoleculeNet: A Benchmark for Molecular Machine Learning*. In *Chemical Science*, 2017. [[Link](https://arxiv.org/abs/1703.00564)]"
   ]
  }
 ],
 "metadata": {
  "accelerator": "GPU",
  "colab": {
   "collapsed_sections": [],
   "provenance": [],
   "toc_visible": true
  },
  "gpuClass": "standard",
  "kernelspec": {
   "display_name": "Python 3",
   "language": "python",
   "name": "python3"
  },
  "language_info": {
   "codemirror_mode": {
    "name": "ipython",
    "version": 3
   },
   "file_extension": ".py",
   "mimetype": "text/x-python",
   "name": "python",
   "nbconvert_exporter": "python",
   "pygments_lexer": "ipython3",
   "version": "3.7.5"
  }
 },
 "nbformat": 4,
 "nbformat_minor": 4
}
